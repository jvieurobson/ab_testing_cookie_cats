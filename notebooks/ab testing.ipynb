{
 "cells": [
  {
   "cell_type": "code",
   "execution_count": 35,
   "id": "152fb065",
   "metadata": {},
   "outputs": [
    {
     "data": {
      "text/html": [
       "<img src=\"https://tactilegames.com/wp-content/uploads/2018/05/cookie-cats.png\" width=\"600\"/>"
      ],
      "text/plain": [
       "<IPython.core.display.Image object>"
      ]
     },
     "execution_count": 35,
     "metadata": {},
     "output_type": "execute_result"
    }
   ],
   "source": [
    "Image(url=\"https://tactilegames.com/wp-content/uploads/2018/05/cookie-cats.png\", width = 600)"
   ]
  },
  {
   "cell_type": "code",
   "execution_count": 36,
   "id": "d17f33fa",
   "metadata": {},
   "outputs": [
    {
     "data": {
      "text/html": [
       "<div>\n",
       "<style scoped>\n",
       "    .dataframe tbody tr th:only-of-type {\n",
       "        vertical-align: middle;\n",
       "    }\n",
       "\n",
       "    .dataframe tbody tr th {\n",
       "        vertical-align: top;\n",
       "    }\n",
       "\n",
       "    .dataframe thead th {\n",
       "        text-align: right;\n",
       "    }\n",
       "</style>\n",
       "<table border=\"1\" class=\"dataframe\">\n",
       "  <thead>\n",
       "    <tr style=\"text-align: right;\">\n",
       "      <th></th>\n",
       "      <th>userid</th>\n",
       "      <th>version</th>\n",
       "      <th>sum_gamerounds</th>\n",
       "      <th>retention_1</th>\n",
       "      <th>retention_7</th>\n",
       "    </tr>\n",
       "  </thead>\n",
       "  <tbody>\n",
       "    <tr>\n",
       "      <th>0</th>\n",
       "      <td>116</td>\n",
       "      <td>gate_30</td>\n",
       "      <td>3</td>\n",
       "      <td>False</td>\n",
       "      <td>False</td>\n",
       "    </tr>\n",
       "    <tr>\n",
       "      <th>1</th>\n",
       "      <td>337</td>\n",
       "      <td>gate_30</td>\n",
       "      <td>38</td>\n",
       "      <td>True</td>\n",
       "      <td>False</td>\n",
       "    </tr>\n",
       "    <tr>\n",
       "      <th>2</th>\n",
       "      <td>377</td>\n",
       "      <td>gate_40</td>\n",
       "      <td>165</td>\n",
       "      <td>True</td>\n",
       "      <td>False</td>\n",
       "    </tr>\n",
       "    <tr>\n",
       "      <th>3</th>\n",
       "      <td>483</td>\n",
       "      <td>gate_40</td>\n",
       "      <td>1</td>\n",
       "      <td>False</td>\n",
       "      <td>False</td>\n",
       "    </tr>\n",
       "    <tr>\n",
       "      <th>4</th>\n",
       "      <td>488</td>\n",
       "      <td>gate_40</td>\n",
       "      <td>179</td>\n",
       "      <td>True</td>\n",
       "      <td>True</td>\n",
       "    </tr>\n",
       "  </tbody>\n",
       "</table>\n",
       "</div>"
      ],
      "text/plain": [
       "   userid  version  sum_gamerounds  retention_1  retention_7\n",
       "0     116  gate_30               3        False        False\n",
       "1     337  gate_30              38         True        False\n",
       "2     377  gate_40             165         True        False\n",
       "3     483  gate_40               1        False        False\n",
       "4     488  gate_40             179         True         True"
      ]
     },
     "execution_count": 36,
     "metadata": {},
     "output_type": "execute_result"
    }
   ],
   "source": [
    "# Import libraries.\n",
    "import os\n",
    "import numpy as np\n",
    "import pandas as pd\n",
    "import matplotlib.pyplot as plt\n",
    "import seaborn as sns\n",
    "import datetime as dt\n",
    "import math\n",
    "from scipy.stats import shapiro\n",
    "from scipy.stats import lognorm\n",
    "from scipy.stats import bootstrap\n",
    "import statsmodels.api as sm\n",
    "import statistics\n",
    "from scipy.stats import kstest\n",
    "%matplotlib inline\n",
    "\n",
    "# Read data.\n",
    "cats = pd.read_csv(r\"C:\\Users\\jonat\\data_projects\\ab_testing\\data\\cookie_cats.csv\")\n",
    "\n",
    "cats.head(5)"
   ]
  },
  {
   "attachments": {},
   "cell_type": "markdown",
   "id": "9610d943",
   "metadata": {},
   "source": [
    "Cookie Cats is a hugely popular mobile puzzle game developed by Tactile Entertainment. It's a classic \"connect three\"-style puzzle game where the player must connect tiles of the same color to clear the board and win the level.  As players progress through the levels of the game, they will occasionally encounter gates that force them to wait a non-trivial amount of time or make an in-app purchase to progress. In addition to driving in-app purchases, these gates serve the important purpose of giving players an enforced break from playing the game, hopefully resulting in that the player's enjoyment of the game being increased and prolonged. \n",
    "\n",
    "Tactile Games are interested in assessing how they can increase in-game purchases within Cookie Cats. Based on user-research, Tactile Games will have come up with a basic hypothesis that changing the gate placement within the game will lead to greater retention rates and therefore, greater in-game purchases.\n",
    "\n",
    "In order to verify this however, they will want to follow a rigorous procedure for A/B testing. It will be as follows:\n",
    "1. Define objectives. \n",
    "2. Hypothesis. \n",
    "   a) Null Hypothesis. Changing the gate placement from level 30 to level 40 will not increase retention rates 7 days later.\n",
    "   b) Alternative Hypothesis. Changing the gate placement from level 30 to level 40 will increase retention rates 7 days later.\n",
    "3. Metrics.\n",
    "5. Assumptions.\n",
    "   a) Independence. We will assume that independence of observations between the gate_30 and gate_40 groups has been controlled for.\n",
    "   b) Randomization. We will assume groups between the two groups have been randomly assigned.\n",
    "   c) Sample size.\n",
    "   d) Normality. \n",
    "6. Statistical test."
   ]
  },
  {
   "cell_type": "markdown",
   "id": "336bb498",
   "metadata": {},
   "source": [
    "### 1. Define objectives.\n",
    "Does placing the gate at a farther level in the game lead to higher retention rates."
   ]
  },
  {
   "cell_type": "markdown",
   "id": "702c5bea",
   "metadata": {},
   "source": [
    "### 2. Hypothesis\n",
    "Null Hypothesis. Changing the gate placement from level 30 to level 40 will not increase retention rates 7 days later.\n",
    "Alternative Hypothesis. Changing the gate placement from level 30 to level 40 will increase retention rates 7 days later."
   ]
  },
  {
   "cell_type": "markdown",
   "id": "c4638cba",
   "metadata": {},
   "source": [
    "### 3. Metrics.\n",
    "Retention rate (7-day). This is equivalent to the percentage of users that came back to the game 7 days after installing."
   ]
  },
  {
   "cell_type": "markdown",
   "id": "dec35c8e",
   "metadata": {},
   "source": [
    "### 4. Assumptions.\n",
    "\n",
    "1. Independence. \n",
    "2. Randomization.\n",
    "3. Sample size. \n",
    "4. Normality.\n",
    "\n",
    "Independence, Randomization, and Sample Size, are all assumptions which will have been assured by Tactile Games in their design of this experiment. \n",
    "\n",
    "Both the treatment and control groups are of significant sample size."
   ]
  },
  {
   "cell_type": "code",
   "execution_count": 13,
   "id": "0ee0713b",
   "metadata": {},
   "outputs": [
    {
     "data": {
      "text/plain": [
       "gate_40    45489\n",
       "gate_30    44700\n",
       "Name: version, dtype: int64"
      ]
     },
     "execution_count": 13,
     "metadata": {},
     "output_type": "execute_result"
    }
   ],
   "source": [
    "cats['version'].value_counts()"
   ]
  },
  {
   "cell_type": "markdown",
   "id": "2ab71e87",
   "metadata": {},
   "source": [
    "Normality however, is also an assumption we can test.\n",
    "\n",
    "There are multiple ways of testing for normality:\n",
    "- Histograms.  \n",
    "- Quintile plot.\n",
    "\n",
    "However, because of the size of our two sample groups, we are able to fulfill the conditions of the Central Limit Thorem, stating that the distribution of the sampling means will approximate that of a normal distribution, given that the sample sizes are large enough. \n",
    "\n",
    "Given that our data fulfills the criteria of Independence, Randomization, Sample size, and Normality, we are able to pursue a parametric test."
   ]
  },
  {
   "cell_type": "markdown",
   "id": "74e35998",
   "metadata": {},
   "source": [
    "### 5. Statistical test.\n",
    "\n",
    "And since we are working with comparing the proportions of two sample groups - i.e. the relative share of users that return 7 days after installing the game within the gate_30 and gate_40 group - it makes sense to complete a Z-test for proportions. \n",
    "\n",
    "Alternatively, bootstrapping can also be pursued, should we want to use a non-parametric method. "
   ]
  },
  {
   "cell_type": "markdown",
   "id": "c28bb7fb",
   "metadata": {},
   "source": [
    "### z-test for proportions.\n",
    "To perform a z-test for proportions, we follow these steps:\n",
    "1. Calculate the proportions.\n",
    "2. Calculate the pooled proportion.\n",
    "3. Perform the z-test.\n",
    "4. Find the p-value and determine significance level.\n",
    "5. Make a decision."
   ]
  },
  {
   "cell_type": "markdown",
   "id": "9ff35ef5",
   "metadata": {},
   "source": [
    "1. Calculate the proportions."
   ]
  },
  {
   "cell_type": "code",
   "execution_count": 25,
   "id": "50e2ce1a",
   "metadata": {},
   "outputs": [
    {
     "name": "stdout",
     "output_type": "stream",
     "text": [
      "Retention rate for gate_30 at retention_7: 0.19\n",
      "Retention rate for gate_40 at retention_7: 0.18\n"
     ]
    }
   ],
   "source": [
    "# Calculate retention rate for gate_30\n",
    "total_users_gate_30 = cats[cats['version'] == 'gate_30'].shape[0]\n",
    "retained_users_gate_30 = cats[(cats['version'] == 'gate_30') & (cats['retention_7'] == True)].shape[0]\n",
    "retention_rate_gate_30 = round((retained_users_gate_30 / total_users_gate_30), 2)\n",
    "\n",
    "# Calculate retention rate for gate_40\n",
    "total_users_gate_40 = cats[cats['version'] == 'gate_40'].shape[0]\n",
    "retained_users_gate_40 = cats[(cats['version'] == 'gate_40') & (cats['retention_7'] == True)].shape[0]\n",
    "retention_rate_gate_40 = round((retained_users_gate_40 / total_users_gate_40), 2)\n",
    "\n",
    "print(f\"Retention rate for gate_30 at retention_7: {retention_rate_gate_30}\")\n",
    "print(f\"Retention rate for gate_40 at retention_7: {retention_rate_gate_40}\")"
   ]
  },
  {
   "cell_type": "markdown",
   "id": "315b9383",
   "metadata": {},
   "source": [
    "2. Calculate the pooled proportions and sample size."
   ]
  },
  {
   "cell_type": "code",
   "execution_count": 26,
   "id": "beebc69f",
   "metadata": {},
   "outputs": [
    {
     "name": "stdout",
     "output_type": "stream",
     "text": [
      "Pooled Proportion (overall retention rate): 0.19\n"
     ]
    }
   ],
   "source": [
    "total_users = total_users_gate_30 + total_users_gate_40\n",
    "total_retained_users = retained_users_gate_30 + retained_users_gate_40\n",
    "pooled_proportion = round((total_retained_users / total_users), 2)\n",
    "print(f\"Pooled Proportion (overall retention rate): {pooled_proportion}\")\n",
    "\n",
    "n_gate_40 = cats['version'].value_counts()[0]\n",
    "n_gate_30 = cats['version'].value_counts()[1]"
   ]
  },
  {
   "cell_type": "markdown",
   "id": "89132b71",
   "metadata": {},
   "source": [
    "3. Perform the z-test."
   ]
  },
  {
   "cell_type": "markdown",
   "id": "121e3ae0",
   "metadata": {},
   "source": [
    "$$ Z = \\frac{( \\hat{p}_{\\text{gate\\_40}} - \\hat{p}_{\\text{gate\\_30}} ) - 0}{\\sqrt{ \\hat{p}(1 - \\hat{p}) \\left( \\frac{1}{n_{\\text{gate\\_30}}} + \\frac{1}{n_{\\text{gate\\_40}}} \\right) }} $$"
   ]
  },
  {
   "cell_type": "code",
   "execution_count": 27,
   "id": "bc70a3d1",
   "metadata": {},
   "outputs": [],
   "source": [
    "z = (retention_rate_gate_40 - retention_rate_gate_30 - 0) / math.sqrt(pooled_proportion * (1 - pooled_proportion) * (1/n_gate_30 + 1/n_gate_40))"
   ]
  },
  {
   "cell_type": "markdown",
   "id": "62c8981a",
   "metadata": {},
   "source": [
    "4. Find the p-value and determine significance level."
   ]
  },
  {
   "cell_type": "code",
   "execution_count": 32,
   "id": "e320c65a",
   "metadata": {},
   "outputs": [],
   "source": [
    "p_value = 1 - norm.cdf(z)\n",
    "alpha = 0.05"
   ]
  },
  {
   "cell_type": "markdown",
   "id": "ef506565",
   "metadata": {},
   "source": [
    "5. Make a decision."
   ]
  },
  {
   "cell_type": "code",
   "execution_count": 33,
   "id": "9755fbfd",
   "metadata": {},
   "outputs": [
    {
     "name": "stdout",
     "output_type": "stream",
     "text": [
      "Fail to reject the null hypothesis at alpha = 0.05. p-value = 0.999935264255483\n"
     ]
    }
   ],
   "source": [
    "if p_value < alpha:\n",
    "    print(f\"Reject the null hypothesis at alpha = {alpha}. p-value = {p_value}\")\n",
    "else:\n",
    "    print(f\"Fail to reject the null hypothesis at alpha = {alpha}. p-value = {p_value}\")"
   ]
  },
  {
   "cell_type": "markdown",
   "id": "d2de1413",
   "metadata": {},
   "source": [
    "We fail to reject the null hypothesis, therefore suggesting that there isn't enough evidence to support the claim that moving the gate from level 30 to level 40 results in a higher retention rate."
   ]
  }
 ],
 "metadata": {
  "kernelspec": {
   "display_name": "Python (ab_testing)",
   "language": "python",
   "name": "ab_testing"
  },
  "language_info": {
   "codemirror_mode": {
    "name": "ipython",
    "version": 3
   },
   "file_extension": ".py",
   "mimetype": "text/x-python",
   "name": "python",
   "nbconvert_exporter": "python",
   "pygments_lexer": "ipython3",
   "version": "3.10.4"
  },
  "latex_envs": {
   "LaTeX_envs_menu_present": true,
   "autoclose": false,
   "autocomplete": true,
   "bibliofile": "biblio.bib",
   "cite_by": "apalike",
   "current_citInitial": 1,
   "eqLabelWithNumbers": true,
   "eqNumInitial": 1,
   "hotkeys": {
    "equation": "Ctrl-E",
    "itemize": "Ctrl-I"
   },
   "labels_anchors": false,
   "latex_user_defs": false,
   "report_style_numbering": false,
   "user_envs_cfg": false
  },
  "toc": {
   "base_numbering": 1,
   "nav_menu": {},
   "number_sections": true,
   "sideBar": true,
   "skip_h1_title": false,
   "title_cell": "Table of Contents",
   "title_sidebar": "Contents",
   "toc_cell": false,
   "toc_position": {},
   "toc_section_display": true,
   "toc_window_display": false
  },
  "varInspector": {
   "cols": {
    "lenName": 16,
    "lenType": 16,
    "lenVar": 40
   },
   "kernels_config": {
    "python": {
     "delete_cmd_postfix": "",
     "delete_cmd_prefix": "del ",
     "library": "var_list.py",
     "varRefreshCmd": "print(var_dic_list())"
    },
    "r": {
     "delete_cmd_postfix": ") ",
     "delete_cmd_prefix": "rm(",
     "library": "var_list.r",
     "varRefreshCmd": "cat(var_dic_list()) "
    }
   },
   "types_to_exclude": [
    "module",
    "function",
    "builtin_function_or_method",
    "instance",
    "_Feature"
   ],
   "window_display": false
  }
 },
 "nbformat": 4,
 "nbformat_minor": 5
}
